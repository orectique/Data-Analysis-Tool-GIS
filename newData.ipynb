{
 "cells": [
  {
   "cell_type": "code",
   "execution_count": 10,
   "metadata": {},
   "outputs": [],
   "source": [
    "import pandas as pd"
   ]
  },
  {
   "cell_type": "code",
   "execution_count": 11,
   "metadata": {},
   "outputs": [],
   "source": [
    "old = pd.read_csv('MainData.csv', index_col = False)"
   ]
  },
  {
   "cell_type": "code",
   "execution_count": 12,
   "metadata": {},
   "outputs": [],
   "source": [
    "new = pd.read_excel('NewData.xlsx', index_col = False)"
   ]
  },
  {
   "cell_type": "code",
   "execution_count": 13,
   "metadata": {},
   "outputs": [
    {
     "data": {
      "text/plain": [
       "Index(['Unnamed: 0', 'name', 'date', 'gender', 'maritalStatus',\n",
       "       'educationQualification', 'phoneNumber', 'aadharNumber', 'occupation',\n",
       "       'workTimings', 'isADailyWageWorker', 'incomePerDay', 'incomePerMonth',\n",
       "       'specialSkills', 'frequentHealthAilments', 'communicableDiseases',\n",
       "       'nonCommunicableDiseases', 'surgeriesUndergone',\n",
       "       'anganwadiServicesRendered', 'anganwadiServicesUtilised',\n",
       "       'phcServicesUtilised', 'privateHealthClinicFacilitiesUsed',\n",
       "       'reasonsForVisitingPrivateHealthClinic', 'tobaccoBasedProductsUsage',\n",
       "       'Vulnerabilities', 'alcoholConsumption', 'oldAgePension',\n",
       "       'businessStatus', 'arogyaSethuAppInstallationStatus',\n",
       "       'vizhithiruAppInstallationStatus', '_id', 'anganwadiServicesAwareness',\n",
       "       'WorkFrom', 'WorkTo', 'Age', 'Age Group'],\n",
       "      dtype='object')"
      ]
     },
     "execution_count": 13,
     "metadata": {},
     "output_type": "execute_result"
    }
   ],
   "source": [
    "old.columns"
   ]
  },
  {
   "cell_type": "code",
   "execution_count": 14,
   "metadata": {},
   "outputs": [
    {
     "data": {
      "text/plain": [
       "Index(['Family No', 'S.No', 'Name', 'Birth Date', 'Gender', 'Phone Number',\n",
       "       'Qualification', 'Vulnerabilities', 'Daily Wagers', 'Employed',\n",
       "       'Occupation', 'Working time', 'Number of work days', 'Day/Week/Month',\n",
       "       'Income', 'student', 'Education', 'Aadhaar number', 'Old age pansion',\n",
       "       'Business', 'Marital status', 'Special Skills', 'Frequent aliments',\n",
       "       'communicable diseases', 'Non communicable diseases', 'Any Surgeries',\n",
       "       'Anganvadi services', 'Anganwadi services utilised',\n",
       "       'Public health centers', 'Private health centers',\n",
       "       'Reason for using private health centers', 'Tobacco based Products',\n",
       "       'Tobacco products', 'Consume  alcohol', 'Arogya sethu App',\n",
       "       'Vizhithiru app'],\n",
       "      dtype='object')"
      ]
     },
     "execution_count": 14,
     "metadata": {},
     "output_type": "execute_result"
    }
   ],
   "source": [
    "new.columns"
   ]
  },
  {
   "cell_type": "code",
   "execution_count": 15,
   "metadata": {},
   "outputs": [],
   "source": [
    "p = old[['name', 'date', 'gender']]"
   ]
  },
  {
   "cell_type": "code",
   "execution_count": 20,
   "metadata": {},
   "outputs": [
    {
     "name": "stderr",
     "output_type": "stream",
     "text": [
      "C:\\Users\\orect\\AppData\\Local\\Temp\\ipykernel_23096\\821241094.py:1: FutureWarning: The series.append method is deprecated and will be removed from pandas in a future version. Use pandas.concat instead.\n",
      "  p['name'] = p['name'].append(['Bob'])\n"
     ]
    },
    {
     "ename": "TypeError",
     "evalue": "cannot concatenate object of type '<class 'str'>'; only Series and DataFrame objs are valid",
     "output_type": "error",
     "traceback": [
      "\u001b[1;31m---------------------------------------------------------------------------\u001b[0m",
      "\u001b[1;31mTypeError\u001b[0m                                 Traceback (most recent call last)",
      "\u001b[1;32md:\\GitHub\\Data-Analysis-Tool-GIS\\newData.ipynb Cell 7'\u001b[0m in \u001b[0;36m<cell line: 1>\u001b[1;34m()\u001b[0m\n\u001b[1;32m----> <a href='vscode-notebook-cell:/d%3A/GitHub/Data-Analysis-Tool-GIS/newData.ipynb#ch0000006?line=0'>1</a>\u001b[0m p[\u001b[39m'\u001b[39m\u001b[39mname\u001b[39m\u001b[39m'\u001b[39m] \u001b[39m=\u001b[39m p[\u001b[39m'\u001b[39;49m\u001b[39mname\u001b[39;49m\u001b[39m'\u001b[39;49m]\u001b[39m.\u001b[39;49mappend([\u001b[39m'\u001b[39;49m\u001b[39mBob\u001b[39;49m\u001b[39m'\u001b[39;49m])\n",
      "File \u001b[1;32m~\\miniconda3\\envs\\env\\lib\\site-packages\\pandas\\core\\series.py:2934\u001b[0m, in \u001b[0;36mSeries.append\u001b[1;34m(self, to_append, ignore_index, verify_integrity)\u001b[0m\n\u001b[0;32m   <a href='file:///c%3A/Users/orect/miniconda3/envs/env/lib/site-packages/pandas/core/series.py?line=2852'>2853</a>\u001b[0m \u001b[39m\"\"\"\u001b[39;00m\n\u001b[0;32m   <a href='file:///c%3A/Users/orect/miniconda3/envs/env/lib/site-packages/pandas/core/series.py?line=2853'>2854</a>\u001b[0m \u001b[39mConcatenate two or more Series.\u001b[39;00m\n\u001b[0;32m   <a href='file:///c%3A/Users/orect/miniconda3/envs/env/lib/site-packages/pandas/core/series.py?line=2854'>2855</a>\u001b[0m \n\u001b[1;32m   (...)\u001b[0m\n\u001b[0;32m   <a href='file:///c%3A/Users/orect/miniconda3/envs/env/lib/site-packages/pandas/core/series.py?line=2923'>2924</a>\u001b[0m \u001b[39mValueError: Indexes have overlapping values: [0, 1, 2]\u001b[39;00m\n\u001b[0;32m   <a href='file:///c%3A/Users/orect/miniconda3/envs/env/lib/site-packages/pandas/core/series.py?line=2924'>2925</a>\u001b[0m \u001b[39m\"\"\"\u001b[39;00m\n\u001b[0;32m   <a href='file:///c%3A/Users/orect/miniconda3/envs/env/lib/site-packages/pandas/core/series.py?line=2925'>2926</a>\u001b[0m warnings\u001b[39m.\u001b[39mwarn(\n\u001b[0;32m   <a href='file:///c%3A/Users/orect/miniconda3/envs/env/lib/site-packages/pandas/core/series.py?line=2926'>2927</a>\u001b[0m     \u001b[39m\"\u001b[39m\u001b[39mThe series.append method is deprecated \u001b[39m\u001b[39m\"\u001b[39m\n\u001b[0;32m   <a href='file:///c%3A/Users/orect/miniconda3/envs/env/lib/site-packages/pandas/core/series.py?line=2927'>2928</a>\u001b[0m     \u001b[39m\"\u001b[39m\u001b[39mand will be removed from pandas in a future version. \u001b[39m\u001b[39m\"\u001b[39m\n\u001b[1;32m   (...)\u001b[0m\n\u001b[0;32m   <a href='file:///c%3A/Users/orect/miniconda3/envs/env/lib/site-packages/pandas/core/series.py?line=2930'>2931</a>\u001b[0m     stacklevel\u001b[39m=\u001b[39mfind_stack_level(),\n\u001b[0;32m   <a href='file:///c%3A/Users/orect/miniconda3/envs/env/lib/site-packages/pandas/core/series.py?line=2931'>2932</a>\u001b[0m )\n\u001b[1;32m-> <a href='file:///c%3A/Users/orect/miniconda3/envs/env/lib/site-packages/pandas/core/series.py?line=2933'>2934</a>\u001b[0m \u001b[39mreturn\u001b[39;00m \u001b[39mself\u001b[39;49m\u001b[39m.\u001b[39;49m_append(to_append, ignore_index, verify_integrity)\n",
      "File \u001b[1;32m~\\miniconda3\\envs\\env\\lib\\site-packages\\pandas\\core\\series.py:2949\u001b[0m, in \u001b[0;36mSeries._append\u001b[1;34m(self, to_append, ignore_index, verify_integrity)\u001b[0m\n\u001b[0;32m   <a href='file:///c%3A/Users/orect/miniconda3/envs/env/lib/site-packages/pandas/core/series.py?line=2946'>2947</a>\u001b[0m     msg \u001b[39m=\u001b[39m \u001b[39m\"\u001b[39m\u001b[39mto_append should be a Series or list/tuple of Series, got DataFrame\u001b[39m\u001b[39m\"\u001b[39m\n\u001b[0;32m   <a href='file:///c%3A/Users/orect/miniconda3/envs/env/lib/site-packages/pandas/core/series.py?line=2947'>2948</a>\u001b[0m     \u001b[39mraise\u001b[39;00m \u001b[39mTypeError\u001b[39;00m(msg)\n\u001b[1;32m-> <a href='file:///c%3A/Users/orect/miniconda3/envs/env/lib/site-packages/pandas/core/series.py?line=2948'>2949</a>\u001b[0m \u001b[39mreturn\u001b[39;00m concat(\n\u001b[0;32m   <a href='file:///c%3A/Users/orect/miniconda3/envs/env/lib/site-packages/pandas/core/series.py?line=2949'>2950</a>\u001b[0m     to_concat, ignore_index\u001b[39m=\u001b[39;49mignore_index, verify_integrity\u001b[39m=\u001b[39;49mverify_integrity\n\u001b[0;32m   <a href='file:///c%3A/Users/orect/miniconda3/envs/env/lib/site-packages/pandas/core/series.py?line=2950'>2951</a>\u001b[0m )\n",
      "File \u001b[1;32m~\\miniconda3\\envs\\env\\lib\\site-packages\\pandas\\util\\_decorators.py:311\u001b[0m, in \u001b[0;36mdeprecate_nonkeyword_arguments.<locals>.decorate.<locals>.wrapper\u001b[1;34m(*args, **kwargs)\u001b[0m\n\u001b[0;32m    <a href='file:///c%3A/Users/orect/miniconda3/envs/env/lib/site-packages/pandas/util/_decorators.py?line=304'>305</a>\u001b[0m \u001b[39mif\u001b[39;00m \u001b[39mlen\u001b[39m(args) \u001b[39m>\u001b[39m num_allow_args:\n\u001b[0;32m    <a href='file:///c%3A/Users/orect/miniconda3/envs/env/lib/site-packages/pandas/util/_decorators.py?line=305'>306</a>\u001b[0m     warnings\u001b[39m.\u001b[39mwarn(\n\u001b[0;32m    <a href='file:///c%3A/Users/orect/miniconda3/envs/env/lib/site-packages/pandas/util/_decorators.py?line=306'>307</a>\u001b[0m         msg\u001b[39m.\u001b[39mformat(arguments\u001b[39m=\u001b[39marguments),\n\u001b[0;32m    <a href='file:///c%3A/Users/orect/miniconda3/envs/env/lib/site-packages/pandas/util/_decorators.py?line=307'>308</a>\u001b[0m         \u001b[39mFutureWarning\u001b[39;00m,\n\u001b[0;32m    <a href='file:///c%3A/Users/orect/miniconda3/envs/env/lib/site-packages/pandas/util/_decorators.py?line=308'>309</a>\u001b[0m         stacklevel\u001b[39m=\u001b[39mstacklevel,\n\u001b[0;32m    <a href='file:///c%3A/Users/orect/miniconda3/envs/env/lib/site-packages/pandas/util/_decorators.py?line=309'>310</a>\u001b[0m     )\n\u001b[1;32m--> <a href='file:///c%3A/Users/orect/miniconda3/envs/env/lib/site-packages/pandas/util/_decorators.py?line=310'>311</a>\u001b[0m \u001b[39mreturn\u001b[39;00m func(\u001b[39m*\u001b[39margs, \u001b[39m*\u001b[39m\u001b[39m*\u001b[39mkwargs)\n",
      "File \u001b[1;32m~\\miniconda3\\envs\\env\\lib\\site-packages\\pandas\\core\\reshape\\concat.py:347\u001b[0m, in \u001b[0;36mconcat\u001b[1;34m(objs, axis, join, ignore_index, keys, levels, names, verify_integrity, sort, copy)\u001b[0m\n\u001b[0;32m    <a href='file:///c%3A/Users/orect/miniconda3/envs/env/lib/site-packages/pandas/core/reshape/concat.py?line=142'>143</a>\u001b[0m \u001b[39m@deprecate_nonkeyword_arguments\u001b[39m(version\u001b[39m=\u001b[39m\u001b[39mNone\u001b[39;00m, allowed_args\u001b[39m=\u001b[39m[\u001b[39m\"\u001b[39m\u001b[39mobjs\u001b[39m\u001b[39m\"\u001b[39m])\n\u001b[0;32m    <a href='file:///c%3A/Users/orect/miniconda3/envs/env/lib/site-packages/pandas/core/reshape/concat.py?line=143'>144</a>\u001b[0m \u001b[39mdef\u001b[39;00m \u001b[39mconcat\u001b[39m(\n\u001b[0;32m    <a href='file:///c%3A/Users/orect/miniconda3/envs/env/lib/site-packages/pandas/core/reshape/concat.py?line=144'>145</a>\u001b[0m     objs: Iterable[NDFrame] \u001b[39m|\u001b[39m Mapping[Hashable, NDFrame],\n\u001b[1;32m   (...)\u001b[0m\n\u001b[0;32m    <a href='file:///c%3A/Users/orect/miniconda3/envs/env/lib/site-packages/pandas/core/reshape/concat.py?line=153'>154</a>\u001b[0m     copy: \u001b[39mbool\u001b[39m \u001b[39m=\u001b[39m \u001b[39mTrue\u001b[39;00m,\n\u001b[0;32m    <a href='file:///c%3A/Users/orect/miniconda3/envs/env/lib/site-packages/pandas/core/reshape/concat.py?line=154'>155</a>\u001b[0m ) \u001b[39m-\u001b[39m\u001b[39m>\u001b[39m DataFrame \u001b[39m|\u001b[39m Series:\n\u001b[0;32m    <a href='file:///c%3A/Users/orect/miniconda3/envs/env/lib/site-packages/pandas/core/reshape/concat.py?line=155'>156</a>\u001b[0m     \u001b[39m\"\"\"\u001b[39;00m\n\u001b[0;32m    <a href='file:///c%3A/Users/orect/miniconda3/envs/env/lib/site-packages/pandas/core/reshape/concat.py?line=156'>157</a>\u001b[0m \u001b[39m    Concatenate pandas objects along a particular axis with optional set logic\u001b[39;00m\n\u001b[0;32m    <a href='file:///c%3A/Users/orect/miniconda3/envs/env/lib/site-packages/pandas/core/reshape/concat.py?line=157'>158</a>\u001b[0m \u001b[39m    along the other axes.\u001b[39;00m\n\u001b[1;32m   (...)\u001b[0m\n\u001b[0;32m    <a href='file:///c%3A/Users/orect/miniconda3/envs/env/lib/site-packages/pandas/core/reshape/concat.py?line=344'>345</a>\u001b[0m \u001b[39m    ValueError: Indexes have overlapping values: ['a']\u001b[39;00m\n\u001b[0;32m    <a href='file:///c%3A/Users/orect/miniconda3/envs/env/lib/site-packages/pandas/core/reshape/concat.py?line=345'>346</a>\u001b[0m \u001b[39m    \"\"\"\u001b[39;00m\n\u001b[1;32m--> <a href='file:///c%3A/Users/orect/miniconda3/envs/env/lib/site-packages/pandas/core/reshape/concat.py?line=346'>347</a>\u001b[0m     op \u001b[39m=\u001b[39m _Concatenator(\n\u001b[0;32m    <a href='file:///c%3A/Users/orect/miniconda3/envs/env/lib/site-packages/pandas/core/reshape/concat.py?line=347'>348</a>\u001b[0m         objs,\n\u001b[0;32m    <a href='file:///c%3A/Users/orect/miniconda3/envs/env/lib/site-packages/pandas/core/reshape/concat.py?line=348'>349</a>\u001b[0m         axis\u001b[39m=\u001b[39;49maxis,\n\u001b[0;32m    <a href='file:///c%3A/Users/orect/miniconda3/envs/env/lib/site-packages/pandas/core/reshape/concat.py?line=349'>350</a>\u001b[0m         ignore_index\u001b[39m=\u001b[39;49mignore_index,\n\u001b[0;32m    <a href='file:///c%3A/Users/orect/miniconda3/envs/env/lib/site-packages/pandas/core/reshape/concat.py?line=350'>351</a>\u001b[0m         join\u001b[39m=\u001b[39;49mjoin,\n\u001b[0;32m    <a href='file:///c%3A/Users/orect/miniconda3/envs/env/lib/site-packages/pandas/core/reshape/concat.py?line=351'>352</a>\u001b[0m         keys\u001b[39m=\u001b[39;49mkeys,\n\u001b[0;32m    <a href='file:///c%3A/Users/orect/miniconda3/envs/env/lib/site-packages/pandas/core/reshape/concat.py?line=352'>353</a>\u001b[0m         levels\u001b[39m=\u001b[39;49mlevels,\n\u001b[0;32m    <a href='file:///c%3A/Users/orect/miniconda3/envs/env/lib/site-packages/pandas/core/reshape/concat.py?line=353'>354</a>\u001b[0m         names\u001b[39m=\u001b[39;49mnames,\n\u001b[0;32m    <a href='file:///c%3A/Users/orect/miniconda3/envs/env/lib/site-packages/pandas/core/reshape/concat.py?line=354'>355</a>\u001b[0m         verify_integrity\u001b[39m=\u001b[39;49mverify_integrity,\n\u001b[0;32m    <a href='file:///c%3A/Users/orect/miniconda3/envs/env/lib/site-packages/pandas/core/reshape/concat.py?line=355'>356</a>\u001b[0m         copy\u001b[39m=\u001b[39;49mcopy,\n\u001b[0;32m    <a href='file:///c%3A/Users/orect/miniconda3/envs/env/lib/site-packages/pandas/core/reshape/concat.py?line=356'>357</a>\u001b[0m         sort\u001b[39m=\u001b[39;49msort,\n\u001b[0;32m    <a href='file:///c%3A/Users/orect/miniconda3/envs/env/lib/site-packages/pandas/core/reshape/concat.py?line=357'>358</a>\u001b[0m     )\n\u001b[0;32m    <a href='file:///c%3A/Users/orect/miniconda3/envs/env/lib/site-packages/pandas/core/reshape/concat.py?line=359'>360</a>\u001b[0m     \u001b[39mreturn\u001b[39;00m op\u001b[39m.\u001b[39mget_result()\n",
      "File \u001b[1;32m~\\miniconda3\\envs\\env\\lib\\site-packages\\pandas\\core\\reshape\\concat.py:437\u001b[0m, in \u001b[0;36m_Concatenator.__init__\u001b[1;34m(self, objs, axis, join, keys, levels, names, ignore_index, verify_integrity, copy, sort)\u001b[0m\n\u001b[0;32m    <a href='file:///c%3A/Users/orect/miniconda3/envs/env/lib/site-packages/pandas/core/reshape/concat.py?line=431'>432</a>\u001b[0m     \u001b[39mif\u001b[39;00m \u001b[39mnot\u001b[39;00m \u001b[39misinstance\u001b[39m(obj, (ABCSeries, ABCDataFrame)):\n\u001b[0;32m    <a href='file:///c%3A/Users/orect/miniconda3/envs/env/lib/site-packages/pandas/core/reshape/concat.py?line=432'>433</a>\u001b[0m         msg \u001b[39m=\u001b[39m (\n\u001b[0;32m    <a href='file:///c%3A/Users/orect/miniconda3/envs/env/lib/site-packages/pandas/core/reshape/concat.py?line=433'>434</a>\u001b[0m             \u001b[39mf\u001b[39m\u001b[39m\"\u001b[39m\u001b[39mcannot concatenate object of type \u001b[39m\u001b[39m'\u001b[39m\u001b[39m{\u001b[39;00m\u001b[39mtype\u001b[39m(obj)\u001b[39m}\u001b[39;00m\u001b[39m'\u001b[39m\u001b[39m; \u001b[39m\u001b[39m\"\u001b[39m\n\u001b[0;32m    <a href='file:///c%3A/Users/orect/miniconda3/envs/env/lib/site-packages/pandas/core/reshape/concat.py?line=434'>435</a>\u001b[0m             \u001b[39m\"\u001b[39m\u001b[39monly Series and DataFrame objs are valid\u001b[39m\u001b[39m\"\u001b[39m\n\u001b[0;32m    <a href='file:///c%3A/Users/orect/miniconda3/envs/env/lib/site-packages/pandas/core/reshape/concat.py?line=435'>436</a>\u001b[0m         )\n\u001b[1;32m--> <a href='file:///c%3A/Users/orect/miniconda3/envs/env/lib/site-packages/pandas/core/reshape/concat.py?line=436'>437</a>\u001b[0m         \u001b[39mraise\u001b[39;00m \u001b[39mTypeError\u001b[39;00m(msg)\n\u001b[0;32m    <a href='file:///c%3A/Users/orect/miniconda3/envs/env/lib/site-packages/pandas/core/reshape/concat.py?line=438'>439</a>\u001b[0m     ndims\u001b[39m.\u001b[39madd(obj\u001b[39m.\u001b[39mndim)\n\u001b[0;32m    <a href='file:///c%3A/Users/orect/miniconda3/envs/env/lib/site-packages/pandas/core/reshape/concat.py?line=440'>441</a>\u001b[0m \u001b[39m# get the sample\u001b[39;00m\n\u001b[0;32m    <a href='file:///c%3A/Users/orect/miniconda3/envs/env/lib/site-packages/pandas/core/reshape/concat.py?line=441'>442</a>\u001b[0m \u001b[39m# want the highest ndim that we have, and must be non-empty\u001b[39;00m\n\u001b[0;32m    <a href='file:///c%3A/Users/orect/miniconda3/envs/env/lib/site-packages/pandas/core/reshape/concat.py?line=442'>443</a>\u001b[0m \u001b[39m# unless all objs are empty\u001b[39;00m\n",
      "\u001b[1;31mTypeError\u001b[0m: cannot concatenate object of type '<class 'str'>'; only Series and DataFrame objs are valid"
     ]
    }
   ],
   "source": [
    "p['name'] = p['name'].append(['Bob'])"
   ]
  },
  {
   "cell_type": "code",
   "execution_count": 19,
   "metadata": {},
   "outputs": [
    {
     "data": {
      "text/plain": [
       "0          ShanmugamBobBob\n",
       "1           Kannan SBobBob\n",
       "2              SelviBobBob\n",
       "3           PoornimaBobBob\n",
       "4          ManonmaniBobBob\n",
       "               ...        \n",
       "1788       IndhiraniBobBob\n",
       "1789         VigneshBobBob\n",
       "1790    PachaiyammalBobBob\n",
       "1791          VinithBobBob\n",
       "1792          VishnuBobBob\n",
       "Name: name, Length: 1793, dtype: object"
      ]
     },
     "execution_count": 19,
     "metadata": {},
     "output_type": "execute_result"
    }
   ],
   "source": [
    "p['name']"
   ]
  },
  {
   "cell_type": "code",
   "execution_count": 23,
   "metadata": {},
   "outputs": [
    {
     "data": {
      "text/plain": [
       "510"
      ]
     },
     "execution_count": 23,
     "metadata": {},
     "output_type": "execute_result"
    }
   ],
   "source": [
    "len(old['_id'].unique())"
   ]
  },
  {
   "cell_type": "code",
   "execution_count": 21,
   "metadata": {},
   "outputs": [],
   "source": [
    "common = pd.read_csv('CommonData.csv')"
   ]
  },
  {
   "cell_type": "code",
   "execution_count": 22,
   "metadata": {},
   "outputs": [
    {
     "data": {
      "text/plain": [
       "252"
      ]
     },
     "execution_count": 22,
     "metadata": {},
     "output_type": "execute_result"
    }
   ],
   "source": [
    "len(common)"
   ]
  },
  {
   "cell_type": "code",
   "execution_count": 28,
   "metadata": {},
   "outputs": [
    {
     "data": {
      "text/plain": [
       "array(['ntp', 'thc', 'kmp', 'cgpr', nan], dtype=object)"
      ]
     },
     "execution_count": 28,
     "metadata": {},
     "output_type": "execute_result"
    }
   ],
   "source": [
    "common['villagename'].unique()"
   ]
  },
  {
   "cell_type": "code",
   "execution_count": null,
   "metadata": {},
   "outputs": [],
   "source": []
  }
 ],
 "metadata": {
  "interpreter": {
   "hash": "481fc7cd6916251f71dc8a976626aa70713b9aa6abd7a29295681691c182dc77"
  },
  "kernelspec": {
   "display_name": "Python 3.10.4 ('env')",
   "language": "python",
   "name": "python3"
  },
  "language_info": {
   "codemirror_mode": {
    "name": "ipython",
    "version": 3
   },
   "file_extension": ".py",
   "mimetype": "text/x-python",
   "name": "python",
   "nbconvert_exporter": "python",
   "pygments_lexer": "ipython3",
   "version": "3.10.4"
  },
  "orig_nbformat": 4
 },
 "nbformat": 4,
 "nbformat_minor": 2
}
