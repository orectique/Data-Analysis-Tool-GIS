{
 "cells": [
  {
   "cell_type": "code",
   "execution_count": 1,
   "metadata": {},
   "outputs": [],
   "source": [
    "import pandas as pd\n",
    "import plotly.express as px\n",
    "from PIL import Image"
   ]
  },
  {
   "cell_type": "code",
   "execution_count": 9,
   "metadata": {},
   "outputs": [],
   "source": [
    "df = pd.read_csv('./MainData.csv')"
   ]
  },
  {
   "cell_type": "code",
   "execution_count": 11,
   "metadata": {},
   "outputs": [
    {
     "data": {
      "text/plain": [
       "Index(['Unnamed: 0', 'name', 'date', 'gender', 'maritalStatus',\n",
       "       'educationQualification', 'phoneNumber', 'aadharNumber', 'occupation',\n",
       "       'workTimings', 'isADailyWageWorker', 'incomePerDay', 'incomePerMonth',\n",
       "       'specialSkills', 'frequentHealthAilments', 'communicableDiseases',\n",
       "       'nonCommunicableDiseases', 'surgeriesUndergone',\n",
       "       'anganwadiServicesRendered', 'anganwadiServicesUtilised',\n",
       "       'phcServicesUtilised', 'privateHealthClinicFacilitiesUsed',\n",
       "       'reasonsForVisitingPrivateHealthClinic', 'tobaccoBasedProductsUsage',\n",
       "       'Vulnerabilities', 'alcoholConsumption', 'oldAgePension',\n",
       "       'businessStatus', 'arogyaSethuAppInstallationStatus',\n",
       "       'vizhithiruAppInstallationStatus', '_id', 'anganwadiServicesAwareness',\n",
       "       'WorkFrom', 'WorkTo', 'Age', 'Age Group'],\n",
       "      dtype='object')"
      ]
     },
     "execution_count": 11,
     "metadata": {},
     "output_type": "execute_result"
    }
   ],
   "source": [
    "df.columns"
   ]
  },
  {
   "cell_type": "code",
   "execution_count": 12,
   "metadata": {},
   "outputs": [
    {
     "data": {
      "text/plain": [
       "<AxesSubplot:ylabel='Frequency'>"
      ]
     },
     "execution_count": 12,
     "metadata": {},
     "output_type": "execute_result"
    },
    {
     "data": {
      "image/png": "[encoded data removed]",
      "text/plain": [
       "<Figure size 432x288 with 1 Axes>"
      ]
     },
     "metadata": {
      "needs_background": "light"
     },
     "output_type": "display_data"
    }
   ],
   "source": [
    "df['Age'].plot.hist()"
   ]
  },
  {
   "cell_type": "code",
   "execution_count": 13,
   "metadata": {},
   "outputs": [
    {
     "name": "stderr",
     "output_type": "stream",
     "text": [
      "C:\\Users\\orect\\AppData\\Local\\Temp\\ipykernel_6608\\3287926854.py:5: SettingWithCopyWarning: \n",
      "A value is trying to be set on a copy of a slice from a DataFrame\n",
      "\n",
      "See the caveats in the documentation: https://pandas.pydata.org/pandas-docs/stable/user_guide/indexing.html#returning-a-view-versus-a-copy\n",
      "  df['Age'][i] = mean\n"
     ]
    }
   ],
   "source": [
    "mean = df['Age'].mean()\n",
    "\n",
    "for i in range(len(df)):\n",
    "    if df['Age'][i] < 0 or df['Age'][i] > 100:\n",
    "        df['Age'][i] = mean\n"
   ]
  },
  {
   "cell_type": "code",
   "execution_count": 14,
   "metadata": {},
   "outputs": [],
   "source": [
    "df.to_csv('./MainData.csv')"
   ]
  },
  {
   "cell_type": "code",
   "execution_count": null,
   "metadata": {},
   "outputs": [],
   "source": []
  }
 ],
 "metadata": {
  "interpreter": {
   "hash": "2c4eb22513297cec5654cfcbb03155dbdfdfce47361ebee1c20ce7fc1403920c"
  },
  "kernelspec": {
   "display_name": "Python 3.9.7 ('env')",
   "language": "python",
   "name": "python3"
  },
  "language_info": {
   "codemirror_mode": {
    "name": "ipython",
    "version": 3
   },
   "file_extension": ".py",
   "mimetype": "text/x-python",
   "name": "python",
   "nbconvert_exporter": "python",
   "pygments_lexer": "ipython3",
   "version": "3.9.7"
  },
  "orig_nbformat": 4
 },
 "nbformat": 4,
 "nbformat_minor": 2
}
