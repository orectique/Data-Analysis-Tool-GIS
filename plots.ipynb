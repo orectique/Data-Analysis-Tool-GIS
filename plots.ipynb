{
 "cells": [
  {
   "cell_type": "code",
   "execution_count": 1,
   "metadata": {},
   "outputs": [],
   "source": [
    "import pandas as pd\n",
    "import plotly.express as px\n",
    "from PIL import Image"
   ]
  },
  {
   "cell_type": "code",
   "execution_count": 4,
   "metadata": {},
   "outputs": [],
   "source": [
    "df = pd.read_csv('./MainData.csv')"
   ]
  },
  {
   "cell_type": "code",
   "execution_count": 5,
   "metadata": {},
   "outputs": [
    {
     "data": {
      "text/plain": [
       "Index(['Unnamed: 0', 'name', 'date', 'gender', 'maritalStatus',\n",
       "       'educationQualification', 'phoneNumber', 'aadharNumber', 'occupation',\n",
       "       'workTimings', 'isADailyWageWorker', 'incomePerDay', 'incomePerMonth',\n",
       "       'specialSkills', 'frequentHealthAilments', 'communicableDiseases',\n",
       "       'nonCommunicableDiseases', 'surgeriesUndergone',\n",
       "       'anganwadiServicesRendered', 'anganwadiServicesUtilised',\n",
       "       'phcServicesUtilised', 'privateHealthClinicFacilitiesUsed',\n",
       "       'reasonsForVisitingPrivateHealthClinic', 'tobaccoBasedProductsUsage',\n",
       "       'Vulnerabilities', 'alcoholConsumption', 'oldAgePension',\n",
       "       'businessStatus', 'arogyaSethuAppInstallationStatus',\n",
       "       'vizhithiruAppInstallationStatus', '_id', 'anganwadiServicesAwareness',\n",
       "       'WorkFrom', 'WorkTo', 'Age', 'Age Group'],\n",
       "      dtype='object')"
      ]
     },
     "execution_count": 5,
     "metadata": {},
     "output_type": "execute_result"
    }
   ],
   "source": [
    "df.columns"
   ]
  },
  {
   "cell_type": "code",
   "execution_count": 3,
   "metadata": {},
   "outputs": [],
   "source": [
    "def splitList(data):\n",
    "\n",
    "    temp = data.str.strip().str.lower()\n",
    "\n",
    "    ls = []\n",
    "\n",
    "    for i in temp:\n",
    "        try:\n",
    "            [ls.append(k) for k in i.split(',')]\n",
    "        except:\n",
    "            pass\n",
    "\n",
    "    ls = [x.strip(' ') for x in ls]\n",
    "\n",
    "    print(ls)\n",
    "\n",
    "    #return pd.Series(ls)\n",
    "    \n",
    "    df = pd.DataFrame(columns=['Data', 'Count'])\n",
    "\n",
    "    i = 0\n",
    "    for val in set(ls):\n",
    "        df.loc[i] = [val, data.str.count(val).sum()]\n",
    "        i += 1\n",
    "    \n",
    "    return df  "
   ]
  },
  {
   "cell_type": "code",
   "execution_count": 4,
   "metadata": {},
   "outputs": [],
   "source": [
    "def plot_bar(data, feature):\n",
    "    try:\n",
    "        if len(data[feature].unique()) > 2:\n",
    "            data = data[data[feature] != 'NO']\n",
    "\n",
    "        lenData = len(data)\n",
    "        title = f'Distribution of {feature}, N = {lenData}'\n",
    "\n",
    "        if feature in ['locallyAvailableFoodsConsumed']:\n",
    "            splitVal = splitList(data[feature])\n",
    "            print(splitVal)\n",
    "            #fig = px.histogram(splitVal, title = title, width = 1000)\n",
    "            fig = px.bar(splitVal, x = 'Data', y = 'Count', title = f'Distribution of {feature}', width = 1000)\n",
    "        else:         \n",
    "            fig = px.histogram(data[feature], title = title, width = 1000)\n",
    "    \n",
    "    except:\n",
    "        fig = Image.open('./error.png')\n",
    "    \n",
    "    return fig"
   ]
  },
  {
   "cell_type": "code",
   "execution_count": 6,
   "metadata": {},
   "outputs": [
    {
     "name": "stdout",
     "output_type": "stream",
     "text": [
      "['drumstick leaves', 'ladies finger', 'bitter gourd', 'banana', 'brinjal', 'ladies finger', 'drumstick leaves', 'drumstick leaves', 'tomato', 'drumstick leaves', 'tomato', 'drumstick leaves', 'drumstick leaves', 'tomato', 'drumstick leaves', 'tomato', 'tomato', 'drumstick leaves', 'drumstick leaves', 'tomato', 'banana', 'brinjal', 'ladies finger', 'drumstick leaves', 'drumstick leaves', 'tomato', 'drumstick leaves', 'tomato', 'banana', 'brinjal', 'ladies finger', 'banana', 'brinjal', 'ladies finger', 'drumstick leaves', 'tomato', 'drumstick leaves', 'tomato', 'banana', 'brinjal', 'ladies finger', 'drumstick leaves', 'tomato', 'drumstick leaves', 'tomato', 'drumstick leaves', 'tomato', 'drumstick leaves', 'tomato', 'banana', 'brinjal', 'ladies finger', 'drumstick leaves', 'tomato', 'drumstick leaves', 'tomato', 'banana', 'brinjal', 'ladies finger', 'tomato', 'drumstick leaves', 'drumstick leaves', 'tomato', 'brinjal', 'tomato', 'brinjal', 'tomato', 'drumstick leaves', 'ridge gourd', 'drumstick leaves', 'tomato', 'drumstick leaves', 'tomato', 'long beans', 'papaya', 'brinjal', 'tomato', 'drumstick leaves', 'drumstick leaves', 'tomato', 'drumstick leaves', 'banana', 'drumstick leaves', 'drumstick leaves', 'tomato', 'drumstick leaves', 'drumstick leaves', 'tomato', 'ladies finger', 'ladies finger', 'brinjal', 'drumstick leaves', 'tomato', 'ladies finger', 'tomato', 'banana', 'brinjal', 'ladies finger', 'brinjal', 'tomato', 'drumstick leaves', 'tomato', 'drumstick leaves', 'ladies finger', 'brinjal', 'tomato', 'drumstick leaves', 'tomato', 'drumstick leaves', 'tomato', 'drumstick leaves', 'banana', 'drumstick leaves', 'banana', 'drumstick leaves', 'ridge gourd', 'bitter gourd', 'drumstick leaves', 'ladies finger', 'brinjal', 'drumstick leaves', 'long beans', 'bitter gourd', 'drumstick leaves', 'tomato', 'lentil', 'long beans', 'tomato', 'potato', 'brinjal', 'ladies finger', 'banana', 'tomato', 'potato', 'brinjal', 'ladies finger', 'banana', 'papaya', 'snake gourd', 'long beans', 'papaya', 'tomato', 'potato', 'brinjal', 'ladies finger', 'banana', 'tomato', 'potato', 'brinjal', 'ladies finger', 'banana', 'banana', 'drumstick leaves', 'ladies finger', 'lentil', 'custard apple', 'papaya', 'drumstick leaves', 'ladies finger', 'brinjal', 'tomato', 'ridge gourd', 'ladies finger', 'ladies finger', 'brinjal', 'brinjal', 'tomato', 'drumstick leaves', 'bitter gourd', 'tomato', 'potato', 'brinjal', 'ladies finger', 'banana', 'brinjal', 'tomato', 'banana', 'drumstick leaves', 'tomato', 'banana', 'tomato', 'potato', 'brinjal', 'ladies finger', 'banana', 'curry leaves', 'banana', 'potato', 'papaya', 'long beans', 'tomato', 'brinjal', 'tomato', 'banana', 'long beans', 'tomato', 'potato', 'drumstick leaves', 'tomato', 'brinjal', 'ladies finger', 'banana', 'tomato', 'potato', 'tomato', 'potato', 'brinjal', 'ladies finger', 'banana', 'brinjal', 'banana', 'ladies finger', 'brinjal', 'tomato', 'banana', 'drumstick leaves', 'tomato', 'potato', 'ladies finger', 'banana', 'tomato', 'potato', 'drumstick leaves', 'tomato', 'banana', 'brinjal', 'tomato', 'banana', 'pumpkin', 'tomato', 'drumstick leaves', 'drumstick leaves', 'tomato', 'banana', 'pumpkin', 'tomato', 'drumstick leaves', 'drumstick leaves', 'tomato', 'banana', 'brinjal', 'tomato', 'banana', 'brinjal', 'ladies finger', 'banana', 'tomato', 'ladies finger', 'carrot', 'long beans', 'banana', 'brinjal', 'ladies finger', 'carrot', 'long beans', 'tomato', 'banana', 'brinjal', 'brinjal', 'tomato', 'banana', 'pumpkin', 'tomato', 'drumstick leaves', 'drumstick leaves', 'tomato', 'banana', 'pumpkin', 'tomato', 'drumstick leaves', 'long beans', 'tomato', 'potato', 'brinjal', 'drumstick', 'potato', 'brinjal', 'ladies finger', 'banana', 'tomato', 'drumstick', 'potato', 'brinjal', 'drumstick', 'potato', 'brinjal', 'brinjal', 'ladies finger', 'banana', 'brinjal', 'tomato', 'banana', 'drumstick', 'potato', 'brinjal', 'drumstick', 'long beans', 'tomato', 'brinjal', 'tomato', 'banana', 'banana', 'coconut', 'papaya', 'drumstick', 'potato', 'brinjal', 'drumstick', 'potato', 'brinjal', 'drumstick', 'potato', 'brinjal', 'long beans', 'tomato', 'potato', 'drumstick', 'potato', 'brinjal', 'long beans', 'brinjal', 'ladies finger', 'brinjal', 'ladies finger', 'banana', 'tomato', 'potato', 'drumstick', 'potato', 'brinjal', 'ladies finger', 'brinjal', 'ladies finger', 'banana', 'tomato', 'potato', 'drumstick', 'potato', 'brinjal', 'ladies finger', 'drumstick', 'potato', 'brinjal', 'ladies finger', 'drumstick', 'potato', 'brinjal', 'ladies finger', 'banana', 'tomato', 'drumstick', 'potato', 'brinjal', 'drumstick', 'potato', 'brinjal', 'ladies finger', 'banana', 'kovakkai', 'pirandai', 'brinjal', 'ladies finger', 'brinjal', 'ladies finger', 'banana', 'tomato', 'potato', 'drumstick', 'potato', 'brinjal', 'long beans', 'tomato', 'potato', 'drumstick', 'potato', 'brinjal', 'drumstick', 'potato', 'brinjal', 'carrot', 'long beans', 'tomato', 'carrot', 'long beans', 'tomato', 'drumstick', 'potato', 'brinjal', 'carrot', 'long beans', 'drumstick leaves', 'drumstick', 'potato', 'brinjal', 'drumstick leaves', 'brinjal', 'ladies finger', 'brinjal', 'ladies finger', 'banana', 'tomato', 'drumstick', 'potato', 'brinjal', 'carrot', 'ladies finger', 'banana', 'tomato', 'brinjal', 'ladies finger', 'banana', 'tomato', 'potato', 'ladies finger', 'banana', 'tomato', 'potato', 'brinjal', 'ladies finger', 'banana', 'brinjal', 'ladies finger', 'banana', 'brinjal', 'ladies finger', 'banana', 'tomato', 'long beans', 'tomato', 'potato', 'brinjal', 'long beans', 'brinjal', 'ladies finger', 'banana', 'brinjal', 'ladies finger', 'banana', 'tomato', 'potato', 'drumstick', 'potato', 'brinjal', 'drumstick', 'potato', 'brinjal', 'potato', 'tomato', 'brinjal', 'drumstick', 'drumstick leaves', 'tomato', 'banana', 'banana', 'tomato', 'potato', 'brinjal', 'drumstick', 'potato', 'brinjal', 'ladies finger', 'drumstick', 'potato', 'brinjal', 'drumstick', 'potato', 'brinjal', 'ladies finger', 'brinjal', 'drumstick', 'drumstick', 'potato', 'tomato', 'brinjal', 'ladies finger', 'carrot', 'ladies finger', 'banana', 'tomato', 'brinjal', 'ladies finger', 'banana', 'brinjal', 'ladies finger', 'banana', 'brinjal', 'ladies finger', 'banana', 'drumstick', 'potato', 'tomato', 'long beans', 'tomato', 'potato', 'carrot', 'long beans', 'tomato', 'carrot', 'long beans', 'tomato', 'brinjal', 'ladies finger', 'banana', 'long beans', 'tomato', 'potato', 'long beans', 'tomato', 'potato', 'brinjal', 'ladies finger', 'banana', 'brinjal', 'ladies finger', 'banana', 'brinjal', 'ladies finger', 'banana', 'long beans', 'long beans', 'tomato', 'potato', 'brinjal', 'ladies finger', 'banana', 'tomato', 'potato', 'brinjal', 'ladies finger', 'banana', 'tomato', 'brinjal', 'ladies finger', 'banana', 'tomato', 'long beans', 'brinjal', 'ladies finger', 'banana', 'long beans', 'tomato', 'potato', 'brinjal', 'carrot', 'long beans', 'tomato', 'potato', 'brinjal', 'brinjal', 'ladies finger', 'banana', 'tomato', 'drumstick leaves', 'brinjal', 'ladies finger', 'brinjal', 'ladies finger', 'banana', 'tomato', 'potato', 'drumstick leaves', 'brinjal', 'ladies finger', 'brinjal', 'ladies finger', 'banana', 'drumstick leaves', 'drumstick', 'potato', 'brinjal', 'long beans', 'tomato', 'brinjal', 'brinjal', 'ladies finger', 'banana', 'brinjal', 'ladies finger', 'banana', 'brinjal', 'ladies finger', 'banana', 'tomato', 'potato', 'brinjal', 'ladies finger', 'banana', 'brinjal', 'ladies finger', 'banana', 'drumstick', 'potato', 'brinjal', 'drumstick', 'potato', 'brinjal', 'drumstick', 'potato', 'brinjal', 'drumstick', 'potato', 'brinjal', 'drumstick', 'potato', 'brinjal', 'brinjal', 'ladies finger', 'banana', 'brinjal', 'ladies finger', 'banana', 'tomato', 'drumstick leaves', 'brinjal', 'ladies finger', 'brinjal', 'ladies finger', 'banana', 'brinjal', 'drumstick', 'carrot', 'drumstick', 'potato', 'tomato', 'drumstick', 'potato', 'tomato', 'drumstick', 'potato', 'brinjal', 'carrot', 'brinjal', 'ladies finger', 'banana', 'brinjal', 'ladies finger', 'banana', 'carrot', 'long beans', 'tomato', 'brinjal', 'ladies finger', 'banana', 'brinjal', 'ladies finger', 'banana', 'tomato', 'brinjal', 'ladies finger', 'banana', 'papaya', 'pomegranate', 'tomato', 'brinjal', 'pumpkin', 'ladies finger', 'long beans', 'brinjal', 'pumpkin', 'ladies finger', 'drumstick leaves', 'brinjal', 'pumpkin', 'brinjal', 'ladies finger', 'banana', 'tomato', 'brinjal', 'ladies finger', 'banana', 'brinjal', 'ladies finger', 'banana', 'tomato', 'brinjal', 'ladies finger', 'brinjal', 'ladies finger', 'banana', 'tomato', 'brinjal', 'ladies finger', 'banana', 'brinjal', 'ladies finger', 'banana', 'drumstick leaves', 'brinjal', 'tomato', 'tomato', 'brinjal', 'ladies finger', 'pumpkin', 'brinjal', 'banana', 'tomato', 'pumpkin', 'brinjal', 'ladies finger', 'banana', 'brinjal', 'ladies finger', 'banana', 'tomato', 'potato', 'pumpkin', 'pumpkin', 'brinjal', 'ladies finger', 'carrot', 'brinjal', 'drumstick', 'carrot', 'pumpkin', 'brinjal', 'ladies finger', 'carrot', 'pumpkin', 'brinjal', 'drumstick', 'carrot', 'pumpkin', 'drumstick leaves', 'tomato', 'potato', 'brinjal', 'brinjal', 'ladies finger', 'carrot', 'pumpkin', 'pumpkin', 'brinjal', 'ladies finger', 'banana', 'brinjal', 'drumstick leaves', 'tomato', 'potato', 'carrot', 'beans', 'tomato', 'potato', 'cabbage', 'drumstick leaves', 'tomato', 'ladies finger']\n",
      "                Data  Count\n",
      "0             lentil    2.0\n",
      "1             tomato  123.0\n",
      "2      ladies finger  104.0\n",
      "3         long beans   31.0\n",
      "4             banana   96.0\n",
      "5      custard apple    1.0\n",
      "6           pirandai    1.0\n",
      "7       curry leaves    1.0\n",
      "8            pumpkin   16.0\n",
      "9             potato   72.0\n",
      "10            papaya    7.0\n",
      "11            carrot   18.0\n",
      "12           brinjal  147.0\n",
      "13  drumstick leaves   69.0\n",
      "14             beans   31.0\n",
      "15       snake gourd    1.0\n",
      "16         drumstick  111.0\n",
      "17      bitter gourd    4.0\n",
      "18       pomegranate    1.0\n",
      "19       ridge gourd    3.0\n",
      "20           cabbage    0.0\n",
      "21          kovakkai    1.0\n",
      "22           coconut    1.0\n"
     ]
    }
   ],
   "source": [
    "fig = plot_bar(df, 'locallyAvailableFoodsConsumed')"
   ]
  },
  {
   "cell_type": "code",
   "execution_count": 8,
   "metadata": {},
   "outputs": [],
   "source": [
    "fig.show(renderer='browser')"
   ]
  },
  {
   "cell_type": "code",
   "execution_count": null,
   "metadata": {},
   "outputs": [],
   "source": []
  }
 ],
 "metadata": {
  "interpreter": {
   "hash": "2c4eb22513297cec5654cfcbb03155dbdfdfce47361ebee1c20ce7fc1403920c"
  },
  "kernelspec": {
   "display_name": "Python 3.9.7 ('env')",
   "language": "python",
   "name": "python3"
  },
  "language_info": {
   "codemirror_mode": {
    "name": "ipython",
    "version": 3
   },
   "file_extension": ".py",
   "mimetype": "text/x-python",
   "name": "python",
   "nbconvert_exporter": "python",
   "pygments_lexer": "ipython3",
   "version": "3.9.7"
  },
  "orig_nbformat": 4
 },
 "nbformat": 4,
 "nbformat_minor": 2
}
