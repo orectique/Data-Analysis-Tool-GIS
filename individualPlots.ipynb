{
 "cells": [
  {
   "cell_type": "code",
   "execution_count": 1,
   "metadata": {},
   "outputs": [],
   "source": [
    "import plotly.express as px\n",
    "import matplotlib.pyplot as plt\n",
    "\n",
    "import pandas as pd\n",
    "import numpy as np"
   ]
  },
  {
   "cell_type": "code",
   "execution_count": 2,
   "metadata": {},
   "outputs": [],
   "source": [
    "mainData = pd.read_csv('MainDataNew.csv')"
   ]
  },
  {
   "cell_type": "code",
   "execution_count": 23,
   "metadata": {},
   "outputs": [],
   "source": [
    "MonthBins = [mainData[mainData['incomePerMonth'] != 0]['incomePerMonth'].quantile(n/10, interpolation = 'midpoint') for n in range(1, 11)]\n",
    "MonthBins = [0] + MonthBins\n",
    "\n",
    "MonthBins = [0,\n",
    " 4000.0,\n",
    " 6000.0,\n",
    " 7000.0,\n",
    " 8000.0,\n",
    " 9000.0,\n",
    " 10000.0,\n",
    " 12000.0,\n",
    " 15000.0,\n",
    " 40000.0]\n"
   ]
  },
  {
   "cell_type": "code",
   "execution_count": 38,
   "metadata": {},
   "outputs": [],
   "source": [
    "DayBins = [mainData[mainData['incomePerDay'] != 0]['incomePerDay'].quantile(n/10, interpolation = 'midpoint') for n in range(1, 11)]\n",
    "DayBins = [0] + DayBins\n",
    "\n",
    "DayBins = [0, 250.0, 300.0, 400.0, 450.0, 500.0, 700.0, 1000.0]\n"
   ]
  },
  {
   "cell_type": "code",
   "execution_count": 39,
   "metadata": {},
   "outputs": [],
   "source": [
    "mainData['DayBins'] = pd.cut(mainData['incomePerDay'], DayBins)\n",
    "mainData['MonthBins'] = pd.cut(mainData['incomePerMonth'], MonthBins)"
   ]
  },
  {
   "cell_type": "code",
   "execution_count": 40,
   "metadata": {},
   "outputs": [
    {
     "data": {
      "text/plain": [
       "(array([ 62., 204.,  73.,  44.,  11.,   2.,   8.,   1.,   0.,   1.]),\n",
       " array([ 2000.,  5800.,  9600., 13400., 17200., 21000., 24800., 28600.,\n",
       "        32400., 36200., 40000.]),\n",
       " <BarContainer object of 10 artists>)"
      ]
     },
     "execution_count": 40,
     "metadata": {},
     "output_type": "execute_result"
    },
    {
     "data": {
      "image/png": "[encoded data removed]",
      "text/plain": [
       "<Figure size 432x288 with 1 Axes>"
      ]
     },
     "metadata": {
      "needs_background": "light"
     },
     "output_type": "display_data"
    }
   ],
   "source": [
    "plt.hist(mainData[mainData['incomePerMonth'] != 0]['incomePerMonth'])"
   ]
  },
  {
   "cell_type": "code",
   "execution_count": 41,
   "metadata": {},
   "outputs": [
    {
     "data": {
      "text/html": [
       "<div>\n",
       "<style scoped>\n",
       "    .dataframe tbody tr th:only-of-type {\n",
       "        vertical-align: middle;\n",
       "    }\n",
       "\n",
       "    .dataframe tbody tr th {\n",
       "        vertical-align: top;\n",
       "    }\n",
       "\n",
       "    .dataframe thead th {\n",
       "        text-align: right;\n",
       "    }\n",
       "</style>\n",
       "<table border=\"1\" class=\"dataframe\">\n",
       "  <thead>\n",
       "    <tr style=\"text-align: right;\">\n",
       "      <th></th>\n",
       "      <th>Unnamed: 0.2</th>\n",
       "      <th>Unnamed: 0.1</th>\n",
       "      <th>Unnamed: 0</th>\n",
       "      <th>aadharNumber</th>\n",
       "      <th>incomePerDay</th>\n",
       "      <th>incomePerMonth</th>\n",
       "      <th>Age</th>\n",
       "      <th>S.No</th>\n",
       "    </tr>\n",
       "  </thead>\n",
       "  <tbody>\n",
       "    <tr>\n",
       "      <th>count</th>\n",
       "      <td>1167.000000</td>\n",
       "      <td>1167.000000</td>\n",
       "      <td>1167.000000</td>\n",
       "      <td>7.450000e+02</td>\n",
       "      <td>1167.000000</td>\n",
       "      <td>1167.000000</td>\n",
       "      <td>1167.000000</td>\n",
       "      <td>0.0</td>\n",
       "    </tr>\n",
       "    <tr>\n",
       "      <th>mean</th>\n",
       "      <td>897.286204</td>\n",
       "      <td>897.286204</td>\n",
       "      <td>433.389032</td>\n",
       "      <td>5.804898e+11</td>\n",
       "      <td>153.145673</td>\n",
       "      <td>2705.869751</td>\n",
       "      <td>34.167431</td>\n",
       "      <td>NaN</td>\n",
       "    </tr>\n",
       "    <tr>\n",
       "      <th>std</th>\n",
       "      <td>527.079450</td>\n",
       "      <td>527.079450</td>\n",
       "      <td>258.663874</td>\n",
       "      <td>2.431174e+11</td>\n",
       "      <td>230.830578</td>\n",
       "      <td>4900.727822</td>\n",
       "      <td>10.902277</td>\n",
       "      <td>NaN</td>\n",
       "    </tr>\n",
       "    <tr>\n",
       "      <th>min</th>\n",
       "      <td>0.000000</td>\n",
       "      <td>0.000000</td>\n",
       "      <td>0.000000</td>\n",
       "      <td>1.000000e+00</td>\n",
       "      <td>0.000000</td>\n",
       "      <td>0.000000</td>\n",
       "      <td>16.000000</td>\n",
       "      <td>NaN</td>\n",
       "    </tr>\n",
       "    <tr>\n",
       "      <th>25%</th>\n",
       "      <td>426.500000</td>\n",
       "      <td>426.500000</td>\n",
       "      <td>211.000000</td>\n",
       "      <td>3.769396e+11</td>\n",
       "      <td>0.000000</td>\n",
       "      <td>0.000000</td>\n",
       "      <td>25.000000</td>\n",
       "      <td>NaN</td>\n",
       "    </tr>\n",
       "    <tr>\n",
       "      <th>50%</th>\n",
       "      <td>927.000000</td>\n",
       "      <td>927.000000</td>\n",
       "      <td>419.000000</td>\n",
       "      <td>5.763120e+11</td>\n",
       "      <td>0.000000</td>\n",
       "      <td>0.000000</td>\n",
       "      <td>33.000000</td>\n",
       "      <td>NaN</td>\n",
       "    </tr>\n",
       "    <tr>\n",
       "      <th>75%</th>\n",
       "      <td>1339.500000</td>\n",
       "      <td>1339.500000</td>\n",
       "      <td>654.000000</td>\n",
       "      <td>7.798104e+11</td>\n",
       "      <td>250.000000</td>\n",
       "      <td>5000.000000</td>\n",
       "      <td>44.000000</td>\n",
       "      <td>NaN</td>\n",
       "    </tr>\n",
       "    <tr>\n",
       "      <th>max</th>\n",
       "      <td>1790.000000</td>\n",
       "      <td>1790.000000</td>\n",
       "      <td>923.000000</td>\n",
       "      <td>9.979261e+11</td>\n",
       "      <td>1000.000000</td>\n",
       "      <td>30000.000000</td>\n",
       "      <td>55.000000</td>\n",
       "      <td>NaN</td>\n",
       "    </tr>\n",
       "  </tbody>\n",
       "</table>\n",
       "</div>"
      ],
      "text/plain": [
       "       Unnamed: 0.2  Unnamed: 0.1   Unnamed: 0  aadharNumber  incomePerDay  \\\n",
       "count   1167.000000   1167.000000  1167.000000  7.450000e+02   1167.000000   \n",
       "mean     897.286204    897.286204   433.389032  5.804898e+11    153.145673   \n",
       "std      527.079450    527.079450   258.663874  2.431174e+11    230.830578   \n",
       "min        0.000000      0.000000     0.000000  1.000000e+00      0.000000   \n",
       "25%      426.500000    426.500000   211.000000  3.769396e+11      0.000000   \n",
       "50%      927.000000    927.000000   419.000000  5.763120e+11      0.000000   \n",
       "75%     1339.500000   1339.500000   654.000000  7.798104e+11    250.000000   \n",
       "max     1790.000000   1790.000000   923.000000  9.979261e+11   1000.000000   \n",
       "\n",
       "       incomePerMonth          Age  S.No  \n",
       "count     1167.000000  1167.000000   0.0  \n",
       "mean      2705.869751    34.167431   NaN  \n",
       "std       4900.727822    10.902277   NaN  \n",
       "min          0.000000    16.000000   NaN  \n",
       "25%          0.000000    25.000000   NaN  \n",
       "50%          0.000000    33.000000   NaN  \n",
       "75%       5000.000000    44.000000   NaN  \n",
       "max      30000.000000    55.000000   NaN  "
      ]
     },
     "execution_count": 41,
     "metadata": {},
     "output_type": "execute_result"
    }
   ],
   "source": [
    "_16to55 = mainData[(mainData['Age'] >= 16) & (mainData['Age'] <= 55)]\n",
    "\n",
    "_16to55.describe()"
   ]
  },
  {
   "cell_type": "code",
   "execution_count": 42,
   "metadata": {},
   "outputs": [
    {
     "data": {
      "text/plain": [
       "(array([  1., 174.,  57.,  90.,  55.,  10.,  11.,  30.,   1.,  15.]),\n",
       " array([ 100.,  190.,  280.,  370.,  460.,  550.,  640.,  730.,  820.,\n",
       "         910., 1000.]),\n",
       " <BarContainer object of 10 artists>)"
      ]
     },
     "execution_count": 42,
     "metadata": {},
     "output_type": "execute_result"
    },
    {
     "data": {
      "image/png": "[encoded data removed]",
      "text/plain": [
       "<Figure size 432x288 with 1 Axes>"
      ]
     },
     "metadata": {
      "needs_background": "light"
     },
     "output_type": "display_data"
    }
   ],
   "source": [
    "plt.hist(_16to55[_16to55['incomePerDay'] != 0]['incomePerDay'])"
   ]
  },
  {
   "cell_type": "code",
   "execution_count": 43,
   "metadata": {},
   "outputs": [
    {
     "data": {
      "text/plain": [
       "(array([  1., 237.,  83., 118.,  89.,  13.,  14.,  36.,   1.,  17.]),\n",
       " array([ 100.,  190.,  280.,  370.,  460.,  550.,  640.,  730.,  820.,\n",
       "         910., 1000.]),\n",
       " <BarContainer object of 10 artists>)"
      ]
     },
     "execution_count": 43,
     "metadata": {},
     "output_type": "execute_result"
    },
    {
     "data": {
      "image/png": "[encoded data removed]",
      "text/plain": [
       "<Figure size 432x288 with 1 Axes>"
      ]
     },
     "metadata": {
      "needs_background": "light"
     },
     "output_type": "display_data"
    }
   ],
   "source": [
    "plt.hist(mainData[mainData['incomePerDay'] != 0]['incomePerDay'])"
   ]
  },
  {
   "cell_type": "code",
   "execution_count": 44,
   "metadata": {},
   "outputs": [
    {
     "data": {
      "text/plain": [
       "(array([ 35.,  83., 132.,  30.,  37.,   3.,   9.,   0.,   7.,   1.]),\n",
       " array([ 2000.,  4800.,  7600., 10400., 13200., 16000., 18800., 21600.,\n",
       "        24400., 27200., 30000.]),\n",
       " <BarContainer object of 10 artists>)"
      ]
     },
     "execution_count": 44,
     "metadata": {},
     "output_type": "execute_result"
    },
    {
     "data": {
      "image/png": "[encoded data removed]",
      "text/plain": [
       "<Figure size 432x288 with 1 Axes>"
      ]
     },
     "metadata": {
      "needs_background": "light"
     },
     "output_type": "display_data"
    }
   ],
   "source": [
    "plt.hist(_16to55[_16to55['incomePerMonth'] != 0]['incomePerMonth'])"
   ]
  },
  {
   "cell_type": "code",
   "execution_count": 45,
   "metadata": {},
   "outputs": [
    {
     "data": {
      "text/plain": [
       "(array([ 62., 204.,  73.,  44.,  11.,   2.,   8.,   1.,   0.,   1.]),\n",
       " array([ 2000.,  5800.,  9600., 13400., 17200., 21000., 24800., 28600.,\n",
       "        32400., 36200., 40000.]),\n",
       " <BarContainer object of 10 artists>)"
      ]
     },
     "execution_count": 45,
     "metadata": {},
     "output_type": "execute_result"
    },
    {
     "data": {
      "image/png": "[encoded data removed]",
      "text/plain": [
       "<Figure size 432x288 with 1 Axes>"
      ]
     },
     "metadata": {
      "needs_background": "light"
     },
     "output_type": "display_data"
    }
   ],
   "source": [
    "plt.hist(mainData[mainData['incomePerMonth'] != 0]['incomePerMonth'])"
   ]
  },
  {
   "cell_type": "code",
   "execution_count": 46,
   "metadata": {},
   "outputs": [
    {
     "data": {
      "text/html": [
       "<div>\n",
       "<style scoped>\n",
       "    .dataframe tbody tr th:only-of-type {\n",
       "        vertical-align: middle;\n",
       "    }\n",
       "\n",
       "    .dataframe tbody tr th {\n",
       "        vertical-align: top;\n",
       "    }\n",
       "\n",
       "    .dataframe thead th {\n",
       "        text-align: right;\n",
       "    }\n",
       "</style>\n",
       "<table border=\"1\" class=\"dataframe\">\n",
       "  <thead>\n",
       "    <tr style=\"text-align: right;\">\n",
       "      <th>Age Group</th>\n",
       "      <th>10-20</th>\n",
       "      <th>20-30</th>\n",
       "      <th>30-40</th>\n",
       "      <th>40-50</th>\n",
       "      <th>50-60</th>\n",
       "      <th>60+</th>\n",
       "    </tr>\n",
       "    <tr>\n",
       "      <th>MonthBins</th>\n",
       "      <th></th>\n",
       "      <th></th>\n",
       "      <th></th>\n",
       "      <th></th>\n",
       "      <th></th>\n",
       "      <th></th>\n",
       "    </tr>\n",
       "  </thead>\n",
       "  <tbody>\n",
       "    <tr>\n",
       "      <th>(0.0, 4000.0]</th>\n",
       "      <td>1</td>\n",
       "      <td>7</td>\n",
       "      <td>7</td>\n",
       "      <td>13</td>\n",
       "      <td>5</td>\n",
       "      <td>0</td>\n",
       "    </tr>\n",
       "    <tr>\n",
       "      <th>(4000.0, 6000.0]</th>\n",
       "      <td>3</td>\n",
       "      <td>7</td>\n",
       "      <td>13</td>\n",
       "      <td>14</td>\n",
       "      <td>8</td>\n",
       "      <td>0</td>\n",
       "    </tr>\n",
       "    <tr>\n",
       "      <th>(6000.0, 7000.0]</th>\n",
       "      <td>1</td>\n",
       "      <td>13</td>\n",
       "      <td>13</td>\n",
       "      <td>10</td>\n",
       "      <td>1</td>\n",
       "      <td>0</td>\n",
       "    </tr>\n",
       "    <tr>\n",
       "      <th>(7000.0, 8000.0]</th>\n",
       "      <td>4</td>\n",
       "      <td>21</td>\n",
       "      <td>22</td>\n",
       "      <td>11</td>\n",
       "      <td>6</td>\n",
       "      <td>0</td>\n",
       "    </tr>\n",
       "    <tr>\n",
       "      <th>(8000.0, 9000.0]</th>\n",
       "      <td>3</td>\n",
       "      <td>15</td>\n",
       "      <td>8</td>\n",
       "      <td>5</td>\n",
       "      <td>4</td>\n",
       "      <td>0</td>\n",
       "    </tr>\n",
       "    <tr>\n",
       "      <th>(9000.0, 10000.0]</th>\n",
       "      <td>0</td>\n",
       "      <td>12</td>\n",
       "      <td>10</td>\n",
       "      <td>12</td>\n",
       "      <td>1</td>\n",
       "      <td>0</td>\n",
       "    </tr>\n",
       "    <tr>\n",
       "      <th>(10000.0, 12000.0]</th>\n",
       "      <td>2</td>\n",
       "      <td>11</td>\n",
       "      <td>10</td>\n",
       "      <td>2</td>\n",
       "      <td>2</td>\n",
       "      <td>0</td>\n",
       "    </tr>\n",
       "    <tr>\n",
       "      <th>(12000.0, 15000.0]</th>\n",
       "      <td>1</td>\n",
       "      <td>15</td>\n",
       "      <td>15</td>\n",
       "      <td>8</td>\n",
       "      <td>0</td>\n",
       "      <td>1</td>\n",
       "    </tr>\n",
       "    <tr>\n",
       "      <th>(15000.0, 40000.0]</th>\n",
       "      <td>0</td>\n",
       "      <td>9</td>\n",
       "      <td>8</td>\n",
       "      <td>3</td>\n",
       "      <td>0</td>\n",
       "      <td>0</td>\n",
       "    </tr>\n",
       "  </tbody>\n",
       "</table>\n",
       "</div>"
      ],
      "text/plain": [
       "Age Group           10-20  20-30  30-40  40-50  50-60  60+\n",
       "MonthBins                                                 \n",
       "(0.0, 4000.0]           1      7      7     13      5    0\n",
       "(4000.0, 6000.0]        3      7     13     14      8    0\n",
       "(6000.0, 7000.0]        1     13     13     10      1    0\n",
       "(7000.0, 8000.0]        4     21     22     11      6    0\n",
       "(8000.0, 9000.0]        3     15      8      5      4    0\n",
       "(9000.0, 10000.0]       0     12     10     12      1    0\n",
       "(10000.0, 12000.0]      2     11     10      2      2    0\n",
       "(12000.0, 15000.0]      1     15     15      8      0    1\n",
       "(15000.0, 40000.0]      0      9      8      3      0    0"
      ]
     },
     "execution_count": 46,
     "metadata": {},
     "output_type": "execute_result"
    }
   ],
   "source": [
    "pd.crosstab(_16to55['MonthBins'], _16to55['Age Group'])"
   ]
  },
  {
   "cell_type": "code",
   "execution_count": 53,
   "metadata": {},
   "outputs": [
    {
     "data": {
      "text/html": [
       "<div>\n",
       "<style scoped>\n",
       "    .dataframe tbody tr th:only-of-type {\n",
       "        vertical-align: middle;\n",
       "    }\n",
       "\n",
       "    .dataframe tbody tr th {\n",
       "        vertical-align: top;\n",
       "    }\n",
       "\n",
       "    .dataframe thead th {\n",
       "        text-align: right;\n",
       "    }\n",
       "</style>\n",
       "<table border=\"1\" class=\"dataframe\">\n",
       "  <thead>\n",
       "    <tr style=\"text-align: right;\">\n",
       "      <th>Age Group</th>\n",
       "      <th>10-20</th>\n",
       "      <th>20-30</th>\n",
       "      <th>30-40</th>\n",
       "      <th>40-50</th>\n",
       "      <th>50-60</th>\n",
       "    </tr>\n",
       "    <tr>\n",
       "      <th>DayBins</th>\n",
       "      <th></th>\n",
       "      <th></th>\n",
       "      <th></th>\n",
       "      <th></th>\n",
       "      <th></th>\n",
       "    </tr>\n",
       "  </thead>\n",
       "  <tbody>\n",
       "    <tr>\n",
       "      <th>(0.0, 250.0]</th>\n",
       "      <td>6</td>\n",
       "      <td>35</td>\n",
       "      <td>43</td>\n",
       "      <td>72</td>\n",
       "      <td>19</td>\n",
       "    </tr>\n",
       "    <tr>\n",
       "      <th>(250.0, 300.0]</th>\n",
       "      <td>1</td>\n",
       "      <td>11</td>\n",
       "      <td>13</td>\n",
       "      <td>15</td>\n",
       "      <td>7</td>\n",
       "    </tr>\n",
       "    <tr>\n",
       "      <th>(300.0, 400.0]</th>\n",
       "      <td>2</td>\n",
       "      <td>14</td>\n",
       "      <td>16</td>\n",
       "      <td>17</td>\n",
       "      <td>8</td>\n",
       "    </tr>\n",
       "    <tr>\n",
       "      <th>(400.0, 450.0]</th>\n",
       "      <td>1</td>\n",
       "      <td>11</td>\n",
       "      <td>13</td>\n",
       "      <td>10</td>\n",
       "      <td>8</td>\n",
       "    </tr>\n",
       "    <tr>\n",
       "      <th>(450.0, 500.0]</th>\n",
       "      <td>2</td>\n",
       "      <td>13</td>\n",
       "      <td>8</td>\n",
       "      <td>26</td>\n",
       "      <td>5</td>\n",
       "    </tr>\n",
       "    <tr>\n",
       "      <th>(500.0, 700.0]</th>\n",
       "      <td>0</td>\n",
       "      <td>9</td>\n",
       "      <td>8</td>\n",
       "      <td>4</td>\n",
       "      <td>0</td>\n",
       "    </tr>\n",
       "    <tr>\n",
       "      <th>(700.0, 1000.0]</th>\n",
       "      <td>0</td>\n",
       "      <td>11</td>\n",
       "      <td>19</td>\n",
       "      <td>13</td>\n",
       "      <td>3</td>\n",
       "    </tr>\n",
       "  </tbody>\n",
       "</table>\n",
       "</div>"
      ],
      "text/plain": [
       "Age Group        10-20  20-30  30-40  40-50  50-60\n",
       "DayBins                                           \n",
       "(0.0, 250.0]         6     35     43     72     19\n",
       "(250.0, 300.0]       1     11     13     15      7\n",
       "(300.0, 400.0]       2     14     16     17      8\n",
       "(400.0, 450.0]       1     11     13     10      8\n",
       "(450.0, 500.0]       2     13      8     26      5\n",
       "(500.0, 700.0]       0      9      8      4      0\n",
       "(700.0, 1000.0]      0     11     19     13      3"
      ]
     },
     "execution_count": 53,
     "metadata": {},
     "output_type": "execute_result"
    }
   ],
   "source": [
    "pd.crosstab(_16to55['DayBins'], _16to55['Age Group'])"
   ]
  },
  {
   "cell_type": "markdown",
   "metadata": {},
   "source": [
    "# Null and 0 data?"
   ]
  },
  {
   "cell_type": "code",
   "execution_count": 57,
   "metadata": {},
   "outputs": [
    {
     "name": "stderr",
     "output_type": "stream",
     "text": [
      "C:\\Users\\orect\\AppData\\Local\\Temp/ipykernel_18668/39140325.py:1: SettingWithCopyWarning:\n",
      "\n",
      "\n",
      "A value is trying to be set on a copy of a slice from a DataFrame\n",
      "\n",
      "See the caveats in the documentation: https://pandas.pydata.org/pandas-docs/stable/user_guide/indexing.html#returning-a-view-versus-a-copy\n",
      "\n"
     ]
    },
    {
     "data": {
      "text/plain": [
       "array(['Others', 'Lactating mother', 'Widow', 'Widower',\n",
       "       'Elderly >60 years', 'Pregnant women', 'Differently abled',\n",
       "       'Children below 2 years', 'Children below 2years',\n",
       "       'Elderly >60 years,Widow'], dtype=object)"
      ]
     },
     "execution_count": 57,
     "metadata": {},
     "output_type": "execute_result"
    }
   ],
   "source": [
    "mainData['Vulnerabilities'].loc[mainData['Vulnerabilities'] == 'None'] = 'Others'\n",
    "\n",
    "mainData['Vulnerabilities'].unique()"
   ]
  },
  {
   "cell_type": "code",
   "execution_count": 69,
   "metadata": {},
   "outputs": [
    {
     "name": "stderr",
     "output_type": "stream",
     "text": [
      "C:\\Users\\orect\\AppData\\Local\\Temp/ipykernel_18668/2377621784.py:1: FutureWarning:\n",
      "\n",
      "The default value of regex will change from True to False in a future version. In addition, single character regular expressions will *not* be treated as literal strings when regex=True.\n",
      "\n"
     ]
    }
   ],
   "source": [
    "mainData['WorkFrom'] = mainData['WorkFrom'].str.replace('.', ':')\n",
    "\n",
    "mainData['WorkFrom'] = mainData['WorkFrom'].replace({'Na' : pd.NA, 'NO' : pd.NA, 'Anytim' : 'No Fixed Schedule', 'AnyTim' : 'No Fixed Schedule'})"
   ]
  },
  {
   "cell_type": "code",
   "execution_count": 83,
   "metadata": {},
   "outputs": [],
   "source": [
    "#from datetime import strptime\n",
    "\n",
    "def to_dt(data):\n",
    "    try:\n",
    "        return pd.to_datetime(data)\n",
    "    except:\n",
    "        pass\n",
    "\n",
    "mainData['WorkFrom'] = mainData['WorkFrom'].apply(to_dt)\n",
    "mainData['WorkTo'] = mainData['WorkTo'].apply(to_dt)\n",
    "\n",
    "mainData['WorkDelta'] = mainData['WorkTo'] - mainData['WorkFrom']\n"
   ]
  },
  {
   "cell_type": "code",
   "execution_count": 84,
   "metadata": {},
   "outputs": [
    {
     "data": {
      "text/plain": [
       "(array([1851.,    0.,    0.,    0.,    0.,    0.,    0.,    0.,    0.,\n",
       "           3.]),\n",
       " array([-9.22337204e+18, -8.30102979e+18, -7.37868755e+18, -6.45634531e+18,\n",
       "        -5.53400306e+18, -4.61166082e+18, -3.68931857e+18, -2.76697633e+18,\n",
       "        -1.84463409e+18, -9.22291844e+17,  5.04000000e+13]),\n",
       " <BarContainer object of 10 artists>)"
      ]
     },
     "execution_count": 84,
     "metadata": {},
     "output_type": "execute_result"
    },
    {
     "data": {
      "image/png": "[encoded data removed]",
      "text/plain": [
       "<Figure size 432x288 with 1 Axes>"
      ]
     },
     "metadata": {
      "needs_background": "light"
     },
     "output_type": "display_data"
    }
   ],
   "source": [
    "plt.hist(pd.to_numeric(mainData['WorkDelta']))"
   ]
  },
  {
   "cell_type": "code",
   "execution_count": null,
   "metadata": {},
   "outputs": [],
   "source": []
  }
 ],
 "metadata": {
  "interpreter": {
   "hash": "481fc7cd6916251f71dc8a976626aa70713b9aa6abd7a29295681691c182dc77"
  },
  "kernelspec": {
   "display_name": "Python 3.9.7 ('env')",
   "language": "python",
   "name": "python3"
  },
  "language_info": {
   "codemirror_mode": {
    "name": "ipython",
    "version": 3
   },
   "file_extension": ".py",
   "mimetype": "text/x-python",
   "name": "python",
   "nbconvert_exporter": "python",
   "pygments_lexer": "ipython3",
   "version": "3.9.7"
  },
  "orig_nbformat": 4
 },
 "nbformat": 4,
 "nbformat_minor": 2
}
